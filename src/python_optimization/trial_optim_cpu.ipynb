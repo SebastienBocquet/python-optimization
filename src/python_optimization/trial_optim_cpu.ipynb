{
  "nbformat": 4,
  "nbformat_minor": 0,
  "metadata": {
    "colab": {
      "provenance": []
    },
    "kernelspec": {
      "name": "python3",
      "display_name": "Python 3"
    },
    "language_info": {
      "name": "python"
    }
  },
  "cells": [
    {
      "cell_type": "markdown",
      "source": [
        "This ray tracing code takes around 30min to run."
      ],
      "metadata": {
        "id": "cnGsAOQDq0kn"
      }
    },
    {
      "cell_type": "code",
      "source": [
        "import numpy as np\n",
        "from PIL import Image\n",
        "\n",
        "# Define constants\n",
        "IMAGE_WIDTH = 1200\n",
        "IMAGE_HEIGHT = 600\n",
        "SAMPLES_PER_PIXEL = 100\n",
        "\n",
        "# Define the sphere parameters\n",
        "SPHERE_CENTER = np.array([0.0, 0.0, -5.0])\n",
        "SPHERE_RADIUS = 1.0\n",
        "\n",
        "def ray_trace(ray_origin, ray_direction):\n",
        "    # Calculate intersection point with sphere\n",
        "    a = np.dot(ray_direction, ray_direction)\n",
        "    b = 2 * np.dot(ray_direction, (ray_origin - SPHERE_CENTER))\n",
        "    c = np.sum((ray_origin - SPHERE_CENTER) ** 2) - SPHERE_RADIUS ** 2\n",
        "\n",
        "    discr = b ** 2 - 4 * a * c\n",
        "    if discr < 0:\n",
        "        return None\n",
        "\n",
        "    t1 = (-b + np.sqrt(discr)) / (2 * a)\n",
        "    t2 = (-b - np.sqrt(discr)) / (2 * a)\n",
        "\n",
        "    # Select the closest intersection point\n",
        "    t = min(t1, t2)\n",
        "    if t < 0:\n",
        "        return None\n",
        "\n",
        "    # Calculate color of pixel based on intersection point\n",
        "    intersection_point = ray_origin + t * ray_direction\n",
        "    normal_vector = intersection_point - SPHERE_CENTER\n",
        "    normal_vector /= np.linalg.norm(normal_vector)\n",
        "\n",
        "    # Simple diffuse shading (no lighting, just ambient)\n",
        "    color = 0.5 + 0.2 * normal_vector[2]\n",
        "    return color\n",
        "\n",
        "def render_image():\n",
        "    image_buffer = np.zeros((IMAGE_HEIGHT, IMAGE_WIDTH, 3))\n",
        "\n",
        "    for x in range(IMAGE_WIDTH):\n",
        "        print(f\"Processing: {x}\")\n",
        "        for y in range(IMAGE_HEIGHT):\n",
        "            # Create ray from camera to pixel on image plane\n",
        "            ray_origin = np.array([0.0, 0.0, 0.0])\n",
        "            ray_direction = np.array([\n",
        "                (x - IMAGE_WIDTH / 2) / IMAGE_WIDTH,\n",
        "                -(y - IMAGE_HEIGHT / 2) / IMAGE_HEIGHT,\n",
        "                -1.0\n",
        "            ])\n",
        "            ray_direction /= np.linalg.norm(ray_direction)\n",
        "\n",
        "            # Accumulate color of pixel over multiple samples\n",
        "            color_sum = 0.0\n",
        "            for _ in range(SAMPLES_PER_PIXEL):\n",
        "                # Perturb the ray direction to simulate Monte Carlo sampling\n",
        "                perturbed_ray_direction = [\n",
        "                    ray_direction[0] + 0.01 * np.random.randn(),\n",
        "                    ray_direction[1] + 0.01 * np.random.randn(),\n",
        "                    ray_direction[2]\n",
        "                ]\n",
        "                perturbed_ray_direction /= np.linalg.norm(perturbed_ray_direction)\n",
        "\n",
        "                intersection_color = ray_trace(ray_origin, perturbed_ray_direction)\n",
        "                if intersection_color is not None:\n",
        "                    color_sum += intersection_color\n",
        "\n",
        "            # Average the color over all samples\n",
        "            color_avg = color_sum / SAMPLES_PER_PIXEL\n",
        "\n",
        "            image_buffer[y, x] = [color_avg, 0.5 * (1 + color_avg), 0.2]\n",
        "\n",
        "    return image_buffer\n",
        "\n",
        "image_data = render_image()\n",
        "img = Image.fromarray((255 * image_data).astype('uint8'))\n",
        "img.save('ray_tracing_output.png')"
      ],
      "metadata": {
        "id": "NyYvu9Gkj778"
      },
      "execution_count": null,
      "outputs": []
    },
    {
      "cell_type": "markdown",
      "source": [
        "Using numba on the double loop on IMAGE_WIDTH * IMAGE_HEIGHT leads to a computational time of around 30s, so a factor 1/90 is gained."
      ],
      "metadata": {
        "id": "oa7AVxfYISV3"
      }
    },
    {
      "cell_type": "code",
      "source": [
        "import numpy as np\n",
        "from PIL import Image\n",
        "import numba\n",
        "\n",
        "# Define constants\n",
        "IMAGE_WIDTH = 1200\n",
        "IMAGE_HEIGHT = 600\n",
        "SAMPLES_PER_PIXEL = 100\n",
        "\n",
        "# Define the sphere parameters\n",
        "SPHERE_CENTER = np.array([0.0, 0.0, -5.0])\n",
        "SPHERE_RADIUS = 1.0\n",
        "\n",
        "# Start numba modification\n",
        "@numba.jit(nopython=True)\n",
        "# End numba modification\n",
        "def ray_trace(ray_origin, ray_direction):\n",
        "    # Calculate intersection point with sphere\n",
        "    a = np.dot(ray_direction, ray_direction)\n",
        "    b = 2 * np.dot(ray_direction, (ray_origin - SPHERE_CENTER))\n",
        "    c = np.sum((ray_origin - SPHERE_CENTER) ** 2) - SPHERE_RADIUS ** 2\n",
        "\n",
        "    discr = b ** 2 - 4 * a * c\n",
        "    if discr < 0:\n",
        "        return None\n",
        "\n",
        "    t1 = (-b + np.sqrt(discr)) / (2 * a)\n",
        "    t2 = (-b - np.sqrt(discr)) / (2 * a)\n",
        "\n",
        "    # Select the closest intersection point\n",
        "    t = min(t1, t2)\n",
        "    if t < 0:\n",
        "        return None\n",
        "\n",
        "    # Calculate color of pixel based on intersection point\n",
        "    intersection_point = ray_origin + t * ray_direction\n",
        "    normal_vector = intersection_point - SPHERE_CENTER\n",
        "    normal_vector /= np.linalg.norm(normal_vector)\n",
        "\n",
        "    # Simple diffuse shading (no lighting, just ambient)\n",
        "    color = 0.5 + 0.2 * normal_vector[2]\n",
        "    return color\n",
        "\n",
        "# Start numba modification\n",
        "@numba.jit(nopython=True, parallel=True)\n",
        "def render_image(image_buffer):\n",
        "    for x in numba.prange(IMAGE_WIDTH):\n",
        "        for y in numba.prange(IMAGE_HEIGHT):\n",
        "# End numba modification\n",
        "            # Create ray from camera to pixel on image plane\n",
        "            ray_origin = np.array([0.0, 0.0, 0.0])\n",
        "            ray_direction = np.array([\n",
        "                (x - IMAGE_WIDTH / 2) / IMAGE_WIDTH,\n",
        "                -(y - IMAGE_HEIGHT / 2) / IMAGE_HEIGHT,\n",
        "                -1.0\n",
        "            ])\n",
        "            ray_direction /= np.linalg.norm(ray_direction)\n",
        "\n",
        "            # Accumulate color of pixel over multiple samples\n",
        "            color_sum = 0.0\n",
        "            for _ in range(SAMPLES_PER_PIXEL):\n",
        "                # Perturb the ray direction to simulate Monte Carlo sampling\n",
        "                perturbed_ray_direction = np.array([\n",
        "                    ray_direction[0] + 0.01 * np.random.randn(),\n",
        "                    ray_direction[1] + 0.01 * np.random.randn(),\n",
        "                    ray_direction[2]\n",
        "                ])\n",
        "                perturbed_ray_direction /= np.linalg.norm(perturbed_ray_direction)\n",
        "\n",
        "                intersection_color = ray_trace(ray_origin, perturbed_ray_direction)\n",
        "                if intersection_color is not None:\n",
        "                    color_sum += intersection_color\n",
        "\n",
        "            # Average the color over all samples\n",
        "            color_avg = color_sum / SAMPLES_PER_PIXEL\n",
        "\n",
        "            image_buffer[y, x] = [color_avg, 0.5 * (1 + color_avg), 0.2]\n",
        "\n",
        "image_buffer = np.zeros((IMAGE_HEIGHT, IMAGE_WIDTH, 3))\n",
        "render_image(image_buffer)\n",
        "img = Image.fromarray((255 * image_buffer).astype('uint8'))\n",
        "print(img)\n",
        "img.save('ray_tracing_output.png')"
      ],
      "metadata": {
        "id": "E4fiMSQ9ocIy",
        "colab": {
          "base_uri": "https://localhost:8080/"
        },
        "outputId": "0a6c774f-6e8e-4316-aa9e-aa4905e6b1cb"
      },
      "execution_count": null,
      "outputs": [
        {
          "output_type": "stream",
          "name": "stdout",
          "text": [
            "<PIL.Image.Image image mode=RGB size=1200x600 at 0x789CBD2C8100>\n"
          ]
        }
      ]
    },
    {
      "cell_type": "markdown",
      "source": [
        "The double loop on IMAGE_WIDTH * IMAGE_HEIGHT is now vectorized.\n",
        "Running on CPU leads to a computational time of around 30s, so a factor 1/90 is obtained compared to the unvectorized code.\n",
        "Using jax.numpy leads to aroud 15s, so a factor 1/180 compared to the unvectorized code. Note that on GPU, a further factor 1/15 was obtained.\n",
        "Interestingly, the performance (with NumPy) compared to Numba is similar. Thus Numba solution is interesting because it reaches the same performance of a vectorized code version, without the complexity of implementing the vectorization."
      ],
      "metadata": {
        "id": "1s2iSd3jGxCv"
      }
    },
    {
      "cell_type": "code",
      "source": [
        "import os\n",
        "os.environ[\"JAX_ENABLE_X64\"] = \"1\"\n",
        "os.environ[\"JAX_PLATFORM_NAME\"] = \"cpu\""
      ],
      "metadata": {
        "id": "kIEIUkSIfyH9"
      },
      "execution_count": null,
      "outputs": []
    },
    {
      "cell_type": "code",
      "source": [
        "import jax.numpy as jnp\n",
        "from PIL import Image\n",
        "import time\n",
        "import jax\n",
        "\n",
        "# Define constants\n",
        "IMAGE_WIDTH = 1200\n",
        "IMAGE_HEIGHT = 600\n",
        "SAMPLES_PER_PIXEL = 100\n",
        "\n",
        "# Define the sphere parameters\n",
        "SPHERE_CENTER = jnp.array([0.0, 0.0, -5.0])\n",
        "SPHERE_RADIUS = 1.0\n",
        "\n",
        "def ray_trace(ray_origins, ray_directions):\n",
        "    # Calculate intersection point with sphere\n",
        "    a = jnp.sum(ray_directions ** 2, axis=-1)\n",
        "    b = 2 * jnp.sum((ray_directions * (ray_origins - SPHERE_CENTER)), axis=-1)\n",
        "    c = jnp.sum((ray_origins - SPHERE_CENTER) ** 2, axis=-1) - SPHERE_RADIUS ** 2\n",
        "\n",
        "    discr = b ** 2 - 4 * a * c\n",
        "    mask = discr > 0\n",
        "    t1 = (-b + jnp.sqrt(discr)) / (2 * a)\n",
        "    t2 = (-b - jnp.sqrt(discr)) / (2 * a)\n",
        "\n",
        "    # Select the closest intersection point\n",
        "    t = jnp.where(t1 < t2, t1, t2)\n",
        "    mask &= t > 0\n",
        "\n",
        "    # Calculate color of pixel based on intersection point\n",
        "    intersection_points = ray_origins + mask[:,:,None] * ray_directions\n",
        "    normal_vectors = (intersection_points - SPHERE_CENTER) / jnp.linalg.norm(intersection_points - SPHERE_CENTER, axis=-1)[:, :, None]\n",
        "    colors = 0.5 + 0.2 * normal_vectors[:, :, 2]\n",
        "\n",
        "    return colors\n",
        "\n",
        "def render_image():\n",
        "    x_coords = jnp.arange(IMAGE_WIDTH)\n",
        "    y_coords = jnp.arange(IMAGE_HEIGHT)\n",
        "    xx, yy = jnp.meshgrid(x_coords, y_coords)\n",
        "\n",
        "    ray_origins = jnp.array([0.0, 0.0, 0.0])\n",
        "    ray_directions_x = (xx - IMAGE_WIDTH / 2) / IMAGE_WIDTH\n",
        "    ray_directions_y = -(yy - IMAGE_HEIGHT / 2) / IMAGE_HEIGHT\n",
        "    ray_directions_z = -1.0 * jnp.ones((IMAGE_HEIGHT, IMAGE_WIDTH))\n",
        "    ray_directions = jnp.stack([ray_directions_x, ray_directions_y, ray_directions_z], axis=-1)\n",
        "    ray_directions /= jnp.linalg.norm(ray_directions, axis=-1)[:, :, None]\n",
        "\n",
        "    colors = jnp.zeros((1, IMAGE_HEIGHT, IMAGE_WIDTH)) #jax.vmap(lambda x: jax.random.normal(jax.random.key(1024), shape=(IMAGE_HEIGHT, IMAGE_WIDTH)), in_axes=0)(jnp.zeros(SAMPLES_PER_PIXEL))\n",
        "    for i in range(SAMPLES_PER_PIXEL):\n",
        "        perturbed_ray_directions = ray_directions + 0.01 * jax.random.normal(jax.random.key(1024), ray_directions.shape)\n",
        "        perturbed_ray_directions /= jnp.linalg.norm(perturbed_ray_directions, axis=-1)[:, :, None]\n",
        "        colors += jnp.expand_dims(ray_trace(jnp.tile(ray_origins[None, None], (IMAGE_HEIGHT, IMAGE_WIDTH, 1)), perturbed_ray_directions), axis=0)\n",
        "\n",
        "    image_buffer = jnp.mean(colors, axis=0)\n",
        "\n",
        "    return image_buffer\n",
        "\n",
        "start_time = time.time()\n",
        "image_buffer = render_image()\n",
        "end_time = time.time()\n",
        "\n",
        "print(f\"Rendering took {end_time - start_time} seconds\")\n",
        "\n",
        "img = Image.fromarray((255 * np.array(image_buffer)).astype('uint8'))\n",
        "img.save('ray_tracing_output.png')"
      ],
      "metadata": {
        "colab": {
          "base_uri": "https://localhost:8080/"
        },
        "id": "LEipPE1zgOQt",
        "outputId": "ec631ee4-fb5d-486d-9973-c5f990a00fb5"
      },
      "execution_count": null,
      "outputs": [
        {
          "output_type": "stream",
          "name": "stdout",
          "text": [
            "Rendering took 13.867013931274414 seconds\n"
          ]
        }
      ]
    }
  ]
}